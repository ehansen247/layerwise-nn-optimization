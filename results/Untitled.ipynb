{
 "cells": [
  {
   "cell_type": "code",
   "execution_count": 8,
   "id": "8d59ebaa",
   "metadata": {},
   "outputs": [],
   "source": [
    "import pandas as pd"
   ]
  },
  {
   "cell_type": "code",
   "execution_count": 13,
   "id": "239eb9d9",
   "metadata": {},
   "outputs": [
    {
     "ename": "ImportError",
     "evalue": "attempted relative import with no known parent package",
     "output_type": "error",
     "traceback": [
      "\u001b[0;31m---------------------------------------------------------------------------\u001b[0m",
      "\u001b[0;31mImportError\u001b[0m                               Traceback (most recent call last)",
      "\u001b[0;32m/tmp/ipykernel_29187/1612149013.py\u001b[0m in \u001b[0;36m<module>\u001b[0;34m\u001b[0m\n\u001b[0;32m----> 1\u001b[0;31m \u001b[0;32mfrom\u001b[0m \u001b[0;34m.\u001b[0m\u001b[0;34m.\u001b[0m \u001b[0;32mimport\u001b[0m \u001b[0mhelper\u001b[0m\u001b[0;34m\u001b[0m\u001b[0;34m\u001b[0m\u001b[0m\n\u001b[0m",
      "\u001b[0;31mImportError\u001b[0m: attempted relative import with no known parent package"
     ]
    }
   ],
   "source": [
    "from .. import helper"
   ]
  },
  {
   "cell_type": "code",
   "execution_count": 3,
   "id": "c8783e74",
   "metadata": {},
   "outputs": [],
   "source": [
    "df = pd.read_csv('2022-12-09-03-09.csv')"
   ]
  },
  {
   "cell_type": "code",
   "execution_count": 4,
   "id": "e145e67e",
   "metadata": {},
   "outputs": [],
   "source": [
    "df['train_strategy'] = 'backprop'"
   ]
  },
  {
   "cell_type": "code",
   "execution_count": 5,
   "id": "fcfaf209",
   "metadata": {},
   "outputs": [],
   "source": [
    "df['model_strategy'] = df['model'] + '_' + df['train_strategy']"
   ]
  },
  {
   "cell_type": "code",
   "execution_count": 6,
   "id": "9d821b9b",
   "metadata": {},
   "outputs": [],
   "source": [
    "df['round'] = 0"
   ]
  },
  {
   "cell_type": "code",
   "execution_count": 7,
   "id": "a158995b",
   "metadata": {},
   "outputs": [],
   "source": [
    "df.to_csv('2022-12-09-03-09.csv')"
   ]
  },
  {
   "cell_type": "code",
   "execution_count": 11,
   "id": "a8c39a1e",
   "metadata": {},
   "outputs": [
    {
     "ename": "NameError",
     "evalue": "name 'helper' is not defined",
     "output_type": "error",
     "traceback": [
      "\u001b[0;31m---------------------------------------------------------------------------\u001b[0m",
      "\u001b[0;31mNameError\u001b[0m                                 Traceback (most recent call last)",
      "\u001b[0;32m/tmp/ipykernel_29187/2558671511.py\u001b[0m in \u001b[0;36m<module>\u001b[0;34m\u001b[0m\n\u001b[0;32m----> 1\u001b[0;31m \u001b[0mall_df\u001b[0m \u001b[0;34m=\u001b[0m \u001b[0mhelper\u001b[0m\u001b[0;34m.\u001b[0m\u001b[0mget_results_files\u001b[0m\u001b[0;34m(\u001b[0m\u001b[0mworkdir\u001b[0m \u001b[0;34m+\u001b[0m \u001b[0;34m'results/'\u001b[0m\u001b[0;34m,\u001b[0m \u001b[0;34m'2022-12-09-03-10'\u001b[0m\u001b[0;34m,\u001b[0m \u001b[0;34m'2022-12-09-03-29'\u001b[0m\u001b[0;34m)\u001b[0m\u001b[0;34m\u001b[0m\u001b[0;34m\u001b[0m\u001b[0m\n\u001b[0m",
      "\u001b[0;31mNameError\u001b[0m: name 'helper' is not defined"
     ]
    }
   ],
   "source": [
    "all_df = helper.get_results_files(workdir + 'results/', '2022-12-09-03-10', '2022-12-09-03-29')"
   ]
  },
  {
   "cell_type": "code",
   "execution_count": null,
   "id": "97720d4d",
   "metadata": {},
   "outputs": [],
   "source": []
  }
 ],
 "metadata": {
  "kernelspec": {
   "display_name": "conda_amazonei_pytorch_latest_p37",
   "language": "python",
   "name": "conda_amazonei_pytorch_latest_p37"
  },
  "language_info": {
   "codemirror_mode": {
    "name": "ipython",
    "version": 3
   },
   "file_extension": ".py",
   "mimetype": "text/x-python",
   "name": "python",
   "nbconvert_exporter": "python",
   "pygments_lexer": "ipython3",
   "version": "3.7.12"
  }
 },
 "nbformat": 4,
 "nbformat_minor": 5
}
